{
 "cells": [
  {
   "cell_type": "markdown",
   "id": "fc9b2e68",
   "metadata": {},
   "source": [
    "## Data Processing\n",
    "In this notebook I have processed the data (ETL), read it from the Azure Blob storage"
   ]
  },
  {
   "cell_type": "code",
   "execution_count": 87,
   "id": "9e006167",
   "metadata": {},
   "outputs": [],
   "source": [
    "\n",
    "import os\n",
    "import sys\n",
    "from urllib.parse import quote_plus\n",
    "from sqlalchemy import create_engine, text\n",
    "from dotenv import load_dotenv\n",
    "import pandas as pd\n",
    "import pyodbc"
   ]
  },
  {
   "cell_type": "code",
   "execution_count": null,
   "id": "8f79b96e",
   "metadata": {},
   "outputs": [
    {
     "name": "stdout",
     "output_type": "stream",
     "text": [
      "The .env file loaded successfully.\n"
     ]
    }
   ],
   "source": [
    "DOTENV_PATH = \"/Users/haseebsagheer/Documents/Python Learning/Cloud-Retail-Insights/secrets/.env\"\n",
    "\n",
    "# Force .env to override anything already in the process\n",
    "if load_dotenv(dotenv_path=DOTENV_PATH, override=True):\n",
    "    print(\"The .env file is loaded successfully.\")\n",
    "else:\n",
    "    print(\"Warning: .env not found or could not be loaded.\")"
   ]
  },
  {
   "cell_type": "code",
   "execution_count": 89,
   "id": "906ee5e1",
   "metadata": {},
   "outputs": [
    {
     "name": "stdout",
     "output_type": "stream",
     "text": [
      "Using SQL_SERVER   = sqlsrv-retail-dev.database.windows.net\n",
      "Using SQL_DATABASE = sqldb-dretail-dev\n",
      "Using SQL_USERNAME = sqladmin\n"
     ]
    }
   ],
   "source": [
    "#This block of code will verify the SQL server login credentials\n",
    "server   = os.getenv(\"SQL_SERVER\")\n",
    "database = os.getenv(\"SQL_DATABASE\")\n",
    "username = os.getenv(\"SQL_USERNAME\")\n",
    "password = os.getenv(\"SQL_PASSWORD\")\n",
    "print(\"Using SQL_SERVER   =\", server)\n",
    "print(\"Using SQL_DATABASE =\", database)\n",
    "print(\"Using SQL_USERNAME =\", username)\n",
    "\n",
    "if not all([server, database, username, password]):\n",
    "    print(\"ERROR: Missing one or more of SQL_SERVER / SQL_DATABASE / SQL_USERNAME / SQL_PASSWORD\")\n",
    "    sys.exit(1)\n"
   ]
  },
  {
   "cell_type": "code",
   "execution_count": 90,
   "id": "2be8e71d",
   "metadata": {},
   "outputs": [
    {
     "name": "stdout",
     "output_type": "stream",
     "text": [
      "SQLAlchemy engine created successfully.\n"
     ]
    }
   ],
   "source": [
    "DRIVER_PATH = \"/opt/homebrew/lib/libmsodbcsql.18.dylib\"\n",
    "\n",
    "#Preparing the credentials for logging in the account (azure SQL Server)\n",
    "odbc = (\n",
    "    f\"DRIVER={DRIVER_PATH};\"\n",
    "    f\"SERVER={server};\"\n",
    "    f\"DATABASE={database};\"\n",
    "    f\"UID={username};\"\n",
    "    f\"PWD={password};\"\n",
    "    \"Encrypt=yes;\"\n",
    "    \"TrustServerCertificate=no;\"\n",
    "    \"Connection Timeout=30;\"\n",
    ")\n",
    "\n",
    "conn_url = f\"mssql+pyodbc:///?odbc_connect={quote_plus(odbc)}\"\n",
    "\n",
    "try:\n",
    "    engine = create_engine(conn_url, fast_executemany=True)\n",
    "    print(\"SQLAlchemy engine created successfully.\")\n",
    "except Exception as e:\n",
    "    print(\"Error creating engine:\", e)\n",
    "    sys.exit(2)"
   ]
  },
  {
   "cell_type": "code",
   "execution_count": null,
   "id": "a082080e",
   "metadata": {},
   "outputs": [
    {
     "name": "stdout",
     "output_type": "stream",
     "text": [
      "Testing connection...\n",
      "Query returned RowID           9800\n",
      "OrderID         9800\n",
      "OrderDate       9800\n",
      "ShipDate        9800\n",
      "ShipMode        9800\n",
      "CustomerID      9800\n",
      "CustomerName    9800\n",
      "Segment         9800\n",
      "Country         9800\n",
      "City            9800\n",
      "State           9800\n",
      "PostalCode      9789\n",
      "Region          9800\n",
      "ProductID       9800\n",
      "Category        9800\n",
      "SubCategory     9800\n",
      "ProductName     9800\n",
      "Sales           9800\n",
      "dtype: int64 rows\n"
     ]
    }
   ],
   "source": [
    "\n",
    "try:\n",
    "    print(\"Testing connection...\")\n",
    "    with engine.connect() as conn:\n",
    "        df = pd.read_sql(\"SELECT * FROM dbo.stg_sales;\", conn)\n",
    "        if df.empty:\n",
    "            print(\"Query returned 0 rows.\")\n",
    "        else:\n",
    "            print(f\"Query returned {len(df)} rows\")\n",
    "            \n",
    "\n",
    "except:\n",
    "    print(\"There was something wrong in getting data from Azure SQl Server\")"
   ]
  },
  {
   "cell_type": "code",
   "execution_count": null,
   "id": "fbdca094",
   "metadata": {},
   "outputs": [],
   "source": []
  }
 ],
 "metadata": {
  "kernelspec": {
   "display_name": "base",
   "language": "python",
   "name": "python3"
  },
  "language_info": {
   "codemirror_mode": {
    "name": "ipython",
    "version": 3
   },
   "file_extension": ".py",
   "mimetype": "text/x-python",
   "name": "python",
   "nbconvert_exporter": "python",
   "pygments_lexer": "ipython3",
   "version": "3.13.5"
  }
 },
 "nbformat": 4,
 "nbformat_minor": 5
}
